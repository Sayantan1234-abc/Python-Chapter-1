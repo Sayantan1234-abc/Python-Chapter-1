{
  "nbformat": 4,
  "nbformat_minor": 0,
  "metadata": {
    "colab": {
      "provenance": []
    },
    "kernelspec": {
      "name": "python3",
      "display_name": "Python 3"
    },
    "language_info": {
      "name": "python"
    }
  },
  "cells": [
    {
      "cell_type": "markdown",
      "source": [
        "## **Python Questions**\n",
        "\n",
        "1 What is Python, and why is it popular?\n",
        "\n",
        "Ans: Python is a high-level, interpreted programming language known for its simplicity, readability, and vast library support.\n",
        "\n",
        "Popularity reasons:\n",
        "\n",
        "Easy-to-read syntax\n",
        "\n",
        "Large community\n",
        "\n",
        "Extensive libraries (e.g., NumPy, Pandas, Django)\n",
        "\n",
        "Cross-platform support\n",
        "\n",
        "2 What is an interpreter in Python?\n",
        "\n",
        "Ans: An interpreter in Python is a program that executes Python code line-by-line, translating it into machine code during runtime. This allows for immediate execution and testing of code.\n",
        "\n",
        "3 What are pre-defined keywords in Python?\n",
        "\n",
        "Ans: Pre-defined keywords are reserved words that have special meaning in Python, such as \"if\", \"for\", \"while\", \"def\", \"return\", etc. They define the structure and syntax of the language.\n",
        "\n",
        "4 Can keywords be used as variable names?\n",
        "\n",
        "Ans: No, keywords cannot be used as variable names. Since they have predefined meanings, using them as identifiers will result in a syntax error.\n",
        "\n",
        "5 What is mutability in Python?\n",
        "\n",
        "Ans: Mutability refers to whether an object's state can be changed after creation.\n",
        "\n",
        "6 Why are lists mutable, but tuples are immutable?\n",
        "\n",
        "Ans: Lists are designed to be flexible and changeable—items can be added, removed, or modified. Tuples are intended to be fixed collections of items, which makes them hashable and suitable for dictionary keys.\n",
        "\n",
        "7 What is the difference between “==” and “is” operators in Python?\n",
        "\n",
        "Ans: \"==\" compares values. \"is\" compares identities like a is b checks if both refer to the same object\n",
        "\n",
        "8 What are logical operators in Python?\n",
        "\n",
        "Ans: Logical operators are used to combine conditional statements. \"and\" = True if both conditions are True. \"or\" = True if at least one condition is True \"not\" = Inverts the truth value\n",
        "\n",
        "9 What is type casting in Python?\n",
        "\n",
        "Ans: Type casting is the process of converting one data type into another.\n",
        "\n",
        "10 What is the difference between implicit and explicit type casting?\n",
        "\n",
        "Ans: Implicit casting helps Python automatically converts types. Explicit casting helps Programmer manually converts types using functions.\n",
        "\n",
        "11 What is the purpose of conditional statements in Python?\n",
        "\n",
        "Ans: Conditional statements allow a program to make decisions and execute different code blocks based on conditions. They control the flow of execution.\n",
        "\n",
        "12 How does the elif statement work?\n",
        "\n",
        "Ans: elif checks another condition if the previous if statement is false.\n",
        "\n",
        "13 What is the difference between for and while loops?\n",
        "\n",
        "Ans: for loop iterates over a sequence with a known number of steps. while loop repeats as long as a condition is True; used when the number of iterations is unknown.\n",
        "\n",
        "14 Describe a scenario where a while loop is more suitable than a for loop\n",
        "\n",
        "Ans: Waiting for user input to be correct.\n",
        "\n",
        "password = \"\"\n",
        "\n",
        "while password != \"abc123\":\n",
        "\n",
        "    password = input(\"Enter password: \")\n",
        "\n",
        "This loop continues indefinitely until the correct input is given — the number of repetitions is unknown, so while is more appropriate."
      ],
      "metadata": {
        "id": "vJyoO938osD3"
      }
    },
    {
      "cell_type": "markdown",
      "source": [
        "# **Practical Questions**"
      ],
      "metadata": {
        "id": "By1GyU1ztPww"
      }
    },
    {
      "cell_type": "code",
      "execution_count": 2,
      "metadata": {
        "colab": {
          "base_uri": "https://localhost:8080/"
        },
        "id": "UvO1aBOroi04",
        "outputId": "c586b516-682d-410b-d3c1-ed506e423a6e"
      },
      "outputs": [
        {
          "output_type": "stream",
          "name": "stdout",
          "text": [
            "Hello, World!\n"
          ]
        }
      ],
      "source": [
        "#1. Print \"Hello, World!\"\n",
        "\n",
        "print(\"Hello, World!\")"
      ]
    },
    {
      "cell_type": "code",
      "source": [
        "#2. Display your name and age\n",
        "\n",
        "name = \"Sayantan\"\n",
        "age = 25\n",
        "print(\"Name:\", name)\n",
        "print(\"Age:\", age)"
      ],
      "metadata": {
        "colab": {
          "base_uri": "https://localhost:8080/"
        },
        "id": "mLRx5Dylyvjb",
        "outputId": "2497711c-2686-46dc-ac54-087d42ffe28f"
      },
      "execution_count": 3,
      "outputs": [
        {
          "output_type": "stream",
          "name": "stdout",
          "text": [
            "Name: Sayantan\n",
            "Age: 25\n"
          ]
        }
      ]
    },
    {
      "cell_type": "code",
      "source": [
        "#3. Print all pre-defined keywords using keyword library\n",
        "\n",
        "import keyword\n",
        "print(\"Python Keywords:\")\n",
        "print(keyword.kwlist)"
      ],
      "metadata": {
        "colab": {
          "base_uri": "https://localhost:8080/"
        },
        "id": "BkUlGWluzHRR",
        "outputId": "78554495-62ad-4abb-d77a-2a3a379f2717"
      },
      "execution_count": 4,
      "outputs": [
        {
          "output_type": "stream",
          "name": "stdout",
          "text": [
            "Python Keywords:\n",
            "['False', 'None', 'True', 'and', 'as', 'assert', 'async', 'await', 'break', 'class', 'continue', 'def', 'del', 'elif', 'else', 'except', 'finally', 'for', 'from', 'global', 'if', 'import', 'in', 'is', 'lambda', 'nonlocal', 'not', 'or', 'pass', 'raise', 'return', 'try', 'while', 'with', 'yield']\n"
          ]
        }
      ]
    },
    {
      "cell_type": "code",
      "source": [
        "#4. Check if a word is a Python keyword\n",
        "\n",
        "import keyword\n",
        "\n",
        "word = input(\"Enter a word: \")\n",
        "if keyword.iskeyword(word):\n",
        "    print(f\"'{word}' is a Python keyword.\")\n",
        "else:\n",
        "    print(f\"'{word}' is not a Python keyword.\")"
      ],
      "metadata": {
        "colab": {
          "base_uri": "https://localhost:8080/"
        },
        "id": "HHLWTLrhzQ5J",
        "outputId": "5d4631d8-e2e0-42bf-bf8c-07235f7ba0ff"
      },
      "execution_count": 6,
      "outputs": [
        {
          "output_type": "stream",
          "name": "stdout",
          "text": [
            "Enter a word: def\n",
            "'def' is a Python keyword.\n"
          ]
        }
      ]
    },
    {
      "cell_type": "code",
      "source": [
        "#5. Function to show mutable vs immutable behavior\n",
        "\n",
        "def modify_data(num, lst):\n",
        "    num += 10           # Immutable (int)\n",
        "    lst.append(10)      # Mutable (list)\n",
        "    print(\"Inside function - num:\", num)\n",
        "    print(\"Inside function - list:\", lst)\n",
        "\n",
        "a = 5\n",
        "b = [1, 2, 3]\n",
        "modify_data(a, b)\n",
        "print(\"Outside function - a:\", a)     # Unchanged\n",
        "print(\"Outside function - b:\", b)     # Changed\n"
      ],
      "metadata": {
        "colab": {
          "base_uri": "https://localhost:8080/"
        },
        "id": "wh1aeDlOzc85",
        "outputId": "fc1793b1-8d76-4ef6-f47b-208bef6beaee"
      },
      "execution_count": 7,
      "outputs": [
        {
          "output_type": "stream",
          "name": "stdout",
          "text": [
            "Inside function - num: 15\n",
            "Inside function - list: [1, 2, 3, 10]\n",
            "Outside function - a: 5\n",
            "Outside function - b: [1, 2, 3, 10]\n"
          ]
        }
      ]
    },
    {
      "cell_type": "code",
      "source": [
        "#6. Basic arithmetic operations\n",
        "\n",
        "x = float(input(\"Enter first number: \"))\n",
        "y = float(input(\"Enter second number: \"))\n",
        "\n",
        "print(\"Addition:\", x + y)\n",
        "print(\"Subtraction:\", x - y)\n",
        "print(\"Multiplication:\", x * y)\n",
        "print(\"Division:\", x / y)"
      ],
      "metadata": {
        "colab": {
          "base_uri": "https://localhost:8080/"
        },
        "id": "pOmftx2izlRb",
        "outputId": "79949412-d28b-4cad-8b32-5b8dd3eeb0c1"
      },
      "execution_count": 8,
      "outputs": [
        {
          "output_type": "stream",
          "name": "stdout",
          "text": [
            "Enter first number: 10.5\n",
            "Enter second number: 2.6\n",
            "Addition: 13.1\n",
            "Subtraction: 7.9\n",
            "Multiplication: 27.3\n",
            "Division: 4.038461538461538\n"
          ]
        }
      ]
    },
    {
      "cell_type": "code",
      "source": [
        "#7. Demonstrate logical operators\n",
        "\n",
        "a = int(input(\"Enter a number: \"))\n",
        "print(a > 0 and a < 100)   # True if a is between 1 and 99\n",
        "print(a < 0 or a > 100)    # True if a is out of range\n",
        "print(not(a == 0))         # True if a is not zero"
      ],
      "metadata": {
        "colab": {
          "base_uri": "https://localhost:8080/"
        },
        "id": "mzfS-VAkzyZW",
        "outputId": "af993730-f676-436a-9ed5-480017a1a6fc"
      },
      "execution_count": 9,
      "outputs": [
        {
          "output_type": "stream",
          "name": "stdout",
          "text": [
            "Enter a number: 45\n",
            "True\n",
            "False\n",
            "True\n"
          ]
        }
      ]
    },
    {
      "cell_type": "code",
      "source": [
        "#8. List vs Tuple mutability\n",
        "\n",
        "my_list = [1, 2, 3]\n",
        "my_tuple = (1, 2, 3)\n",
        "\n",
        "# Changing list\n",
        "my_list[1] = 20\n",
        "print(\"Modified list:\", my_list)\n",
        "\n",
        "# Attempt to change tuple (will cause error)\n",
        "try:\n",
        "    my_tuple[1] = 20\n",
        "except TypeError as e:\n",
        "    print(\"Error with tuple:\", e)"
      ],
      "metadata": {
        "colab": {
          "base_uri": "https://localhost:8080/"
        },
        "id": "gT62Aslvz7o3",
        "outputId": "b778318f-9d3b-4ac3-afdd-6a5edf24e081"
      },
      "execution_count": 10,
      "outputs": [
        {
          "output_type": "stream",
          "name": "stdout",
          "text": [
            "Modified list: [1, 20, 3]\n",
            "Error with tuple: 'tuple' object does not support item assignment\n"
          ]
        }
      ]
    },
    {
      "cell_type": "code",
      "source": [
        "#9. Convert input to int, float, and bool\n",
        "\n",
        "value = input(\"Enter something: \")\n",
        "\n",
        "int_val = int(value)\n",
        "float_val = float(value)\n",
        "bool_val = bool(value)\n",
        "\n",
        "print(\"Integer:\", int_val)\n",
        "print(\"Float:\", float_val)\n",
        "print(\"Boolean:\", bool_val)"
      ],
      "metadata": {
        "colab": {
          "base_uri": "https://localhost:8080/"
        },
        "id": "VoCMWtNp0m0H",
        "outputId": "facb532c-97e6-4bd3-eb42-572ce4a03ae6"
      },
      "execution_count": 11,
      "outputs": [
        {
          "output_type": "stream",
          "name": "stdout",
          "text": [
            "Enter something: 4\n",
            "Integer: 4\n",
            "Float: 4.0\n",
            "Boolean: True\n"
          ]
        }
      ]
    },
    {
      "cell_type": "code",
      "source": [
        "#10. Type casting with list elements\n",
        "\n",
        "str_list = [\"1\", \"2\", \"3\"]\n",
        "int_list = [int(x) for x in str_list]\n",
        "print(\"Original strings:\", str_list)\n",
        "print(\"Converted to integers:\", int_list)"
      ],
      "metadata": {
        "colab": {
          "base_uri": "https://localhost:8080/"
        },
        "id": "ypRMTreY0x4k",
        "outputId": "41453d5f-eb31-4980-f9dc-b060083ae056"
      },
      "execution_count": 12,
      "outputs": [
        {
          "output_type": "stream",
          "name": "stdout",
          "text": [
            "Original strings: ['1', '2', '3']\n",
            "Converted to integers: [1, 2, 3]\n"
          ]
        }
      ]
    },
    {
      "cell_type": "code",
      "source": [
        "#11. Check if number is positive, negative, or zero\n",
        "\n",
        "num = float(input(\"Enter a number: \"))\n",
        "if num > 0:\n",
        "    print(\"Positive\")\n",
        "elif num < 0:\n",
        "    print(\"Negative\")\n",
        "else:\n",
        "    print(\"Zero\")"
      ],
      "metadata": {
        "colab": {
          "base_uri": "https://localhost:8080/"
        },
        "id": "l4e-zIOl04pi",
        "outputId": "f52f1d0a-ad46-4793-9c63-5e226e86fe84"
      },
      "execution_count": 13,
      "outputs": [
        {
          "output_type": "stream",
          "name": "stdout",
          "text": [
            "Enter a number: 12.89\n",
            "Positive\n"
          ]
        }
      ]
    },
    {
      "cell_type": "code",
      "source": [
        "#12. For loop to print numbers 1 to 10\n",
        "\n",
        "for i in range(1, 11):\n",
        "    print(i)"
      ],
      "metadata": {
        "colab": {
          "base_uri": "https://localhost:8080/"
        },
        "id": "uV14xUAQ2R81",
        "outputId": "4c83b258-459e-4656-ae45-74979cd81655"
      },
      "execution_count": 14,
      "outputs": [
        {
          "output_type": "stream",
          "name": "stdout",
          "text": [
            "1\n",
            "2\n",
            "3\n",
            "4\n",
            "5\n",
            "6\n",
            "7\n",
            "8\n",
            "9\n",
            "10\n"
          ]
        }
      ]
    },
    {
      "cell_type": "code",
      "source": [
        "#13. Sum of even numbers from 1 to 50\n",
        "\n",
        "total = 0\n",
        "for i in range(2, 51, 2):\n",
        "    total += i\n",
        "print(\"Sum of even numbers from 1 to 50:\", total)"
      ],
      "metadata": {
        "colab": {
          "base_uri": "https://localhost:8080/"
        },
        "id": "iMi6SF9P2XWl",
        "outputId": "b44c8747-9cd8-4397-c2d0-fb5daade0927"
      },
      "execution_count": 15,
      "outputs": [
        {
          "output_type": "stream",
          "name": "stdout",
          "text": [
            "Sum of even numbers from 1 to 50: 650\n"
          ]
        }
      ]
    },
    {
      "cell_type": "code",
      "source": [
        "#14. Reverse string using while loop\n",
        "\n",
        "text = input(\"Enter a string: \")\n",
        "reversed_text = \"\"\n",
        "index = len(text) - 1\n",
        "\n",
        "while index >= 0:\n",
        "    reversed_text += text[index]\n",
        "    index -= 1\n",
        "\n",
        "print(\"Reversed string:\", reversed_text)"
      ],
      "metadata": {
        "colab": {
          "base_uri": "https://localhost:8080/"
        },
        "id": "z0REgyxo2e7W",
        "outputId": "34fd74c9-d15f-4188-dda9-7523c1d825e5"
      },
      "execution_count": 16,
      "outputs": [
        {
          "output_type": "stream",
          "name": "stdout",
          "text": [
            "Enter a string: acid\n",
            "Reversed string: dica\n"
          ]
        }
      ]
    },
    {
      "cell_type": "code",
      "source": [
        "#15. Factorial using while loop\n",
        "\n",
        "num = int(input(\"Enter a number: \"))\n",
        "fact = 1\n",
        "i = 1\n",
        "\n",
        "while i <= num:\n",
        "    fact *= i\n",
        "    i += 1\n",
        "\n",
        "print(\"Factorial of\", num, \"is\", fact)"
      ],
      "metadata": {
        "colab": {
          "base_uri": "https://localhost:8080/"
        },
        "id": "__6I9pDw2owe",
        "outputId": "906b7095-a24f-412f-d947-a853ffde1de9"
      },
      "execution_count": 17,
      "outputs": [
        {
          "output_type": "stream",
          "name": "stdout",
          "text": [
            "Enter a number: 5\n",
            "Factorial of 5 is 120\n"
          ]
        }
      ]
    }
  ]
}